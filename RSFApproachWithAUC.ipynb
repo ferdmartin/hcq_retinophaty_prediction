{
 "cells": [
  {
   "cell_type": "markdown",
   "id": "8278eaa5-812c-45c2-8ee2-abfc86013222",
   "metadata": {},
   "source": [
    "# hcq_retinophaty_prediction"
   ]
  },
  {
   "cell_type": "markdown",
   "id": "71630314-9a3b-47af-84f9-939fdde03c35",
   "metadata": {},
   "source": [
    "## Import libraries and read data"
   ]
  },
  {
   "cell_type": "code",
   "execution_count": 1,
   "id": "5eca1d6d-fb11-4c1f-b503-dfbe4d4a8239",
   "metadata": {
    "tags": []
   },
   "outputs": [
    {
     "name": "stdout",
     "output_type": "stream",
     "text": [
      "Collecting imblearn\n",
      "  Downloading imblearn-0.0-py2.py3-none-any.whl (1.9 kB)\n",
      "Collecting scikit-survival\n",
      "  Downloading scikit_survival-0.18.0-cp39-cp39-manylinux_2_17_x86_64.manylinux2014_x86_64.whl (3.2 MB)\n",
      "\u001b[2K     \u001b[90m━━━━━━━━━━━━━━━━━━━━━━━━━━━━━━━━━━━━━━━━\u001b[0m \u001b[32m3.2/3.2 MB\u001b[0m \u001b[31m34.0 MB/s\u001b[0m eta \u001b[36m0:00:00\u001b[0ma \u001b[36m0:00:01\u001b[0m\n",
      "\u001b[?25hCollecting imbalanced-learn\n",
      "  Downloading imbalanced_learn-0.9.1-py3-none-any.whl (199 kB)\n",
      "\u001b[2K     \u001b[90m━━━━━━━━━━━━━━━━━━━━━━━━━━━━━━━━━━━━━━\u001b[0m \u001b[32m199.3/199.3 kB\u001b[0m \u001b[31m34.5 MB/s\u001b[0m eta \u001b[36m0:00:00\u001b[0m\n",
      "\u001b[?25hRequirement already satisfied: scikit-learn<1.2,>=1.1.0 in /usr/local/lib/python3.9/dist-packages (from scikit-survival) (1.1.1)\n",
      "Collecting numexpr\n",
      "  Downloading numexpr-2.8.3-cp39-cp39-manylinux_2_17_x86_64.manylinux2014_x86_64.whl (380 kB)\n",
      "\u001b[2K     \u001b[90m━━━━━━━━━━━━━━━━━━━━━━━━━━━━━━━━━━━━━━\u001b[0m \u001b[32m380.5/380.5 kB\u001b[0m \u001b[31m48.7 MB/s\u001b[0m eta \u001b[36m0:00:00\u001b[0m\n",
      "\u001b[?25hRequirement already satisfied: pandas>=1.0.5 in /usr/local/lib/python3.9/dist-packages (from scikit-survival) (1.4.3)\n",
      "Requirement already satisfied: joblib in /usr/local/lib/python3.9/dist-packages (from scikit-survival) (1.1.0)\n",
      "Requirement already satisfied: numpy in /usr/local/lib/python3.9/dist-packages (from scikit-survival) (1.23.1)\n",
      "Requirement already satisfied: scipy>=1.3.2 in /usr/local/lib/python3.9/dist-packages (from scikit-survival) (1.8.1)\n",
      "Collecting ecos\n",
      "  Downloading ecos-2.0.10-cp39-cp39-manylinux_2_17_x86_64.manylinux2014_x86_64.manylinux_2_24_x86_64.whl (189 kB)\n",
      "\u001b[2K     \u001b[90m━━━━━━━━━━━━━━━━━━━━━━━━━━━━━━━━━━━━━━\u001b[0m \u001b[32m189.9/189.9 kB\u001b[0m \u001b[31m33.5 MB/s\u001b[0m eta \u001b[36m0:00:00\u001b[0m\n",
      "\u001b[?25hCollecting osqp!=0.6.0,!=0.6.1\n",
      "  Downloading osqp-0.6.2.post5-cp39-cp39-manylinux_2_5_x86_64.manylinux1_x86_64.manylinux_2_17_x86_64.manylinux2014_x86_64.whl (297 kB)\n",
      "\u001b[2K     \u001b[90m━━━━━━━━━━━━━━━━━━━━━━━━━━━━━━━━━━━━━━\u001b[0m \u001b[32m297.9/297.9 kB\u001b[0m \u001b[31m31.8 MB/s\u001b[0m eta \u001b[36m0:00:00\u001b[0m\n",
      "\u001b[?25hCollecting qdldl\n",
      "  Downloading qdldl-0.1.5.post2-cp39-cp39-manylinux_2_17_x86_64.manylinux2014_x86_64.whl (1.0 MB)\n",
      "\u001b[2K     \u001b[90m━━━━━━━━━━━━━━━━━━━━━━━━━━━━━━━━━━━━━━━━\u001b[0m \u001b[32m1.0/1.0 MB\u001b[0m \u001b[31m66.2 MB/s\u001b[0m eta \u001b[36m0:00:00\u001b[0m\n",
      "\u001b[?25hRequirement already satisfied: python-dateutil>=2.8.1 in /usr/local/lib/python3.9/dist-packages (from pandas>=1.0.5->scikit-survival) (2.8.2)\n",
      "Requirement already satisfied: pytz>=2020.1 in /usr/local/lib/python3.9/dist-packages (from pandas>=1.0.5->scikit-survival) (2022.1)\n",
      "Requirement already satisfied: threadpoolctl>=2.0.0 in /usr/local/lib/python3.9/dist-packages (from scikit-learn<1.2,>=1.1.0->scikit-survival) (3.1.0)\n",
      "Requirement already satisfied: packaging in /usr/local/lib/python3.9/dist-packages (from numexpr->scikit-survival) (21.3)\n",
      "Requirement already satisfied: six>=1.5 in /usr/lib/python3/dist-packages (from python-dateutil>=2.8.1->pandas>=1.0.5->scikit-survival) (1.14.0)\n",
      "Requirement already satisfied: pyparsing!=3.0.5,>=2.0.2 in /usr/local/lib/python3.9/dist-packages (from packaging->numexpr->scikit-survival) (3.0.9)\n",
      "Installing collected packages: qdldl, numexpr, ecos, osqp, imbalanced-learn, scikit-survival, imblearn\n",
      "Successfully installed ecos-2.0.10 imbalanced-learn-0.9.1 imblearn-0.0 numexpr-2.8.3 osqp-0.6.2.post5 qdldl-0.1.5.post2 scikit-survival-0.18.0\n",
      "\u001b[33mWARNING: Running pip as the 'root' user can result in broken permissions and conflicting behaviour with the system package manager. It is recommended to use a virtual environment instead: https://pip.pypa.io/warnings/venv\u001b[0m\u001b[33m\n",
      "\u001b[0m"
     ]
    }
   ],
   "source": [
    "!pip install imblearn scikit-survival"
   ]
  },
  {
   "cell_type": "code",
   "execution_count": 2,
   "id": "cd148df5-4d62-440b-8d00-c1f48527687e",
   "metadata": {
    "tags": []
   },
   "outputs": [],
   "source": [
    "import numpy as np\n",
    "import pandas as pd\n",
    "from sklearn.model_selection import train_test_split, RepeatedStratifiedKFold, GridSearchCV, cross_val_score\n",
    "from sklearn.preprocessing import OneHotEncoder, StandardScaler\n",
    "from sklearn.ensemble import RandomForestClassifier, BaggingClassifier\n",
    "from sksurv.ensemble import RandomSurvivalForest\n",
    "from sksurv.metrics import cumulative_dynamic_auc\n",
    "from sklearn.feature_selection import RFECV, SequentialFeatureSelector, SelectKBest,f_classif\n",
    "from sklearn.metrics import accuracy_score, f1_score, classification_report, precision_score, recall_score\n",
    "import imblearn\n",
    "from imblearn.pipeline import make_pipeline\n",
    "import matplotlib.pyplot as plt"
   ]
  },
  {
   "cell_type": "code",
   "execution_count": 3,
   "id": "0d929f81-49ea-4c8f-817a-01b54305066b",
   "metadata": {
    "tags": []
   },
   "outputs": [],
   "source": [
    "df = pd.read_csv('https://raw.githubusercontent.com/ferdmartin/hcq_retinophaty_prediction/main/dummydata_rsf_7_20_22.csv')"
   ]
  },
  {
   "cell_type": "markdown",
   "id": "c49cdf10-96ff-460b-9503-5764f63e1c98",
   "metadata": {},
   "source": [
    "## Exploring dataset"
   ]
  },
  {
   "cell_type": "code",
   "execution_count": 4,
   "id": "3d4574ee-49a2-4cff-901f-ae3cd419e5ea",
   "metadata": {
    "tags": []
   },
   "outputs": [
    {
     "data": {
      "text/html": [
       "<div>\n",
       "<style scoped>\n",
       "    .dataframe tbody tr th:only-of-type {\n",
       "        vertical-align: middle;\n",
       "    }\n",
       "\n",
       "    .dataframe tbody tr th {\n",
       "        vertical-align: top;\n",
       "    }\n",
       "\n",
       "    .dataframe thead th {\n",
       "        text-align: right;\n",
       "    }\n",
       "</style>\n",
       "<table border=\"1\" class=\"dataframe\">\n",
       "  <thead>\n",
       "    <tr style=\"text-align: right;\">\n",
       "      <th></th>\n",
       "      <th>id</th>\n",
       "      <th>age</th>\n",
       "      <th>weight_kg</th>\n",
       "      <th>height_inch</th>\n",
       "      <th>eGFR</th>\n",
       "      <th>astmean</th>\n",
       "      <th>cumulative_dose</th>\n",
       "      <th>female</th>\n",
       "      <th>diabetes</th>\n",
       "      <th>tamoxifen</th>\n",
       "      <th>retinaltoxin</th>\n",
       "      <th>highdose</th>\n",
       "      <th>race</th>\n",
       "      <th>hcqindication</th>\n",
       "      <th>bmi</th>\n",
       "      <th>outcome</th>\n",
       "      <th>fup_time</th>\n",
       "      <th>dosewt</th>\n",
       "    </tr>\n",
       "  </thead>\n",
       "  <tbody>\n",
       "    <tr>\n",
       "      <th>0</th>\n",
       "      <td>1</td>\n",
       "      <td>50</td>\n",
       "      <td>67.7</td>\n",
       "      <td>63</td>\n",
       "      <td>76.1</td>\n",
       "      <td>18.3</td>\n",
       "      <td>357.0</td>\n",
       "      <td>1</td>\n",
       "      <td>0</td>\n",
       "      <td>0</td>\n",
       "      <td>0</td>\n",
       "      <td>1</td>\n",
       "      <td>White</td>\n",
       "      <td>lupus</td>\n",
       "      <td>26.438702</td>\n",
       "      <td>0</td>\n",
       "      <td>120</td>\n",
       "      <td>6.257509</td>\n",
       "    </tr>\n",
       "    <tr>\n",
       "      <th>1</th>\n",
       "      <td>2</td>\n",
       "      <td>59</td>\n",
       "      <td>80.8</td>\n",
       "      <td>65</td>\n",
       "      <td>89.1</td>\n",
       "      <td>23.3</td>\n",
       "      <td>564.0</td>\n",
       "      <td>1</td>\n",
       "      <td>0</td>\n",
       "      <td>0</td>\n",
       "      <td>0</td>\n",
       "      <td>0</td>\n",
       "      <td>White</td>\n",
       "      <td>Other/Unknown</td>\n",
       "      <td>29.642663</td>\n",
       "      <td>0</td>\n",
       "      <td>41</td>\n",
       "      <td>4.855915</td>\n",
       "    </tr>\n",
       "    <tr>\n",
       "      <th>2</th>\n",
       "      <td>3</td>\n",
       "      <td>56</td>\n",
       "      <td>76.5</td>\n",
       "      <td>65</td>\n",
       "      <td>84.8</td>\n",
       "      <td>21.5</td>\n",
       "      <td>520.0</td>\n",
       "      <td>1</td>\n",
       "      <td>0</td>\n",
       "      <td>0</td>\n",
       "      <td>0</td>\n",
       "      <td>1</td>\n",
       "      <td>White</td>\n",
       "      <td>lupus</td>\n",
       "      <td>28.065145</td>\n",
       "      <td>0</td>\n",
       "      <td>6</td>\n",
       "      <td>6.342299</td>\n",
       "    </tr>\n",
       "    <tr>\n",
       "      <th>3</th>\n",
       "      <td>4</td>\n",
       "      <td>70</td>\n",
       "      <td>96.5</td>\n",
       "      <td>68</td>\n",
       "      <td>104.5</td>\n",
       "      <td>31.1</td>\n",
       "      <td>240.0</td>\n",
       "      <td>1</td>\n",
       "      <td>0</td>\n",
       "      <td>0</td>\n",
       "      <td>0</td>\n",
       "      <td>0</td>\n",
       "      <td>White</td>\n",
       "      <td>RA</td>\n",
       "      <td>32.347599</td>\n",
       "      <td>0</td>\n",
       "      <td>44</td>\n",
       "      <td>2.039484</td>\n",
       "    </tr>\n",
       "    <tr>\n",
       "      <th>4</th>\n",
       "      <td>5</td>\n",
       "      <td>59</td>\n",
       "      <td>80.5</td>\n",
       "      <td>65</td>\n",
       "      <td>88.8</td>\n",
       "      <td>23.2</td>\n",
       "      <td>568.0</td>\n",
       "      <td>1</td>\n",
       "      <td>0</td>\n",
       "      <td>0</td>\n",
       "      <td>0</td>\n",
       "      <td>1</td>\n",
       "      <td>White</td>\n",
       "      <td>Sjogrens syndrome</td>\n",
       "      <td>29.532603</td>\n",
       "      <td>1</td>\n",
       "      <td>12</td>\n",
       "      <td>5.070541</td>\n",
       "    </tr>\n",
       "  </tbody>\n",
       "</table>\n",
       "</div>"
      ],
      "text/plain": [
       "   id  age  weight_kg  height_inch   eGFR  astmean  cumulative_dose  female  \\\n",
       "0   1   50       67.7           63   76.1     18.3            357.0       1   \n",
       "1   2   59       80.8           65   89.1     23.3            564.0       1   \n",
       "2   3   56       76.5           65   84.8     21.5            520.0       1   \n",
       "3   4   70       96.5           68  104.5     31.1            240.0       1   \n",
       "4   5   59       80.5           65   88.8     23.2            568.0       1   \n",
       "\n",
       "   diabetes  tamoxifen  retinaltoxin  highdose   race      hcqindication  \\\n",
       "0         0          0             0         1  White              lupus   \n",
       "1         0          0             0         0  White      Other/Unknown   \n",
       "2         0          0             0         1  White              lupus   \n",
       "3         0          0             0         0  White                 RA   \n",
       "4         0          0             0         1  White  Sjogrens syndrome   \n",
       "\n",
       "         bmi  outcome  fup_time    dosewt  \n",
       "0  26.438702        0       120  6.257509  \n",
       "1  29.642663        0        41  4.855915  \n",
       "2  28.065145        0         6  6.342299  \n",
       "3  32.347599        0        44  2.039484  \n",
       "4  29.532603        1        12  5.070541  "
      ]
     },
     "execution_count": 4,
     "metadata": {},
     "output_type": "execute_result"
    }
   ],
   "source": [
    "df.head()"
   ]
  },
  {
   "cell_type": "code",
   "execution_count": 5,
   "id": "ed9efe07-9968-4f40-a5ea-5a8518530071",
   "metadata": {
    "tags": []
   },
   "outputs": [
    {
     "data": {
      "text/plain": [
       "0    4032\n",
       "1     119\n",
       "Name: outcome, dtype: int64"
      ]
     },
     "execution_count": 5,
     "metadata": {},
     "output_type": "execute_result"
    }
   ],
   "source": [
    "df.outcome.value_counts()\n",
    "# Imbalanced"
   ]
  },
  {
   "cell_type": "code",
   "execution_count": 6,
   "id": "6c2b48c3-2ed3-4814-aff5-e43d7195451f",
   "metadata": {
    "tags": []
   },
   "outputs": [
    {
     "data": {
      "text/plain": [
       "id                 0\n",
       "age                0\n",
       "weight_kg          0\n",
       "height_inch        0\n",
       "eGFR               0\n",
       "astmean            0\n",
       "cumulative_dose    0\n",
       "female             0\n",
       "diabetes           0\n",
       "tamoxifen          0\n",
       "retinaltoxin       0\n",
       "highdose           0\n",
       "race               0\n",
       "hcqindication      0\n",
       "bmi                0\n",
       "outcome            0\n",
       "fup_time           0\n",
       "dosewt             0\n",
       "dtype: int64"
      ]
     },
     "execution_count": 6,
     "metadata": {},
     "output_type": "execute_result"
    }
   ],
   "source": [
    "df.isna().sum()\n",
    "# No nulls"
   ]
  },
  {
   "cell_type": "code",
   "execution_count": 7,
   "id": "2161a4f1-0432-4892-8eac-a0db72943940",
   "metadata": {
    "tags": []
   },
   "outputs": [
    {
     "data": {
      "text/html": [
       "<div>\n",
       "<style scoped>\n",
       "    .dataframe tbody tr th:only-of-type {\n",
       "        vertical-align: middle;\n",
       "    }\n",
       "\n",
       "    .dataframe tbody tr th {\n",
       "        vertical-align: top;\n",
       "    }\n",
       "\n",
       "    .dataframe thead th {\n",
       "        text-align: right;\n",
       "    }\n",
       "</style>\n",
       "<table border=\"1\" class=\"dataframe\">\n",
       "  <thead>\n",
       "    <tr style=\"text-align: right;\">\n",
       "      <th></th>\n",
       "      <th>id</th>\n",
       "      <th>age</th>\n",
       "      <th>weight_kg</th>\n",
       "      <th>height_inch</th>\n",
       "      <th>eGFR</th>\n",
       "      <th>astmean</th>\n",
       "      <th>cumulative_dose</th>\n",
       "      <th>female</th>\n",
       "      <th>diabetes</th>\n",
       "      <th>tamoxifen</th>\n",
       "      <th>retinaltoxin</th>\n",
       "      <th>highdose</th>\n",
       "      <th>bmi</th>\n",
       "      <th>outcome</th>\n",
       "      <th>fup_time</th>\n",
       "      <th>dosewt</th>\n",
       "    </tr>\n",
       "  </thead>\n",
       "  <tbody>\n",
       "    <tr>\n",
       "      <th>count</th>\n",
       "      <td>4151.000000</td>\n",
       "      <td>4151.000000</td>\n",
       "      <td>4151.000000</td>\n",
       "      <td>4151.000000</td>\n",
       "      <td>4151.000000</td>\n",
       "      <td>4151.000000</td>\n",
       "      <td>4151.000000</td>\n",
       "      <td>4151.000000</td>\n",
       "      <td>4151.000000</td>\n",
       "      <td>4151.000000</td>\n",
       "      <td>4151.000000</td>\n",
       "      <td>4151.000000</td>\n",
       "      <td>4151.000000</td>\n",
       "      <td>4151.000000</td>\n",
       "      <td>4151.000000</td>\n",
       "      <td>4151.000000</td>\n",
       "    </tr>\n",
       "    <tr>\n",
       "      <th>mean</th>\n",
       "      <td>2076.000000</td>\n",
       "      <td>57.082390</td>\n",
       "      <td>79.198699</td>\n",
       "      <td>64.804384</td>\n",
       "      <td>85.953361</td>\n",
       "      <td>23.880029</td>\n",
       "      <td>490.597360</td>\n",
       "      <td>0.825584</td>\n",
       "      <td>0.065285</td>\n",
       "      <td>0.003614</td>\n",
       "      <td>0.011082</td>\n",
       "      <td>0.387377</td>\n",
       "      <td>28.773014</td>\n",
       "      <td>0.028668</td>\n",
       "      <td>67.933510</td>\n",
       "      <td>4.503707</td>\n",
       "    </tr>\n",
       "    <tr>\n",
       "      <th>std</th>\n",
       "      <td>1198.434813</td>\n",
       "      <td>13.563593</td>\n",
       "      <td>19.655275</td>\n",
       "      <td>3.617600</td>\n",
       "      <td>19.978272</td>\n",
       "      <td>9.482674</td>\n",
       "      <td>170.307368</td>\n",
       "      <td>0.379512</td>\n",
       "      <td>0.247059</td>\n",
       "      <td>0.060012</td>\n",
       "      <td>0.104697</td>\n",
       "      <td>0.487210</td>\n",
       "      <td>4.689372</td>\n",
       "      <td>0.166891</td>\n",
       "      <td>39.117154</td>\n",
       "      <td>1.974297</td>\n",
       "    </tr>\n",
       "    <tr>\n",
       "      <th>min</th>\n",
       "      <td>1.000000</td>\n",
       "      <td>22.000000</td>\n",
       "      <td>35.400000</td>\n",
       "      <td>53.000000</td>\n",
       "      <td>18.600000</td>\n",
       "      <td>6.300000</td>\n",
       "      <td>26.000000</td>\n",
       "      <td>0.000000</td>\n",
       "      <td>0.000000</td>\n",
       "      <td>0.000000</td>\n",
       "      <td>0.000000</td>\n",
       "      <td>0.000000</td>\n",
       "      <td>16.633505</td>\n",
       "      <td>0.000000</td>\n",
       "      <td>1.000000</td>\n",
       "      <td>0.068902</td>\n",
       "    </tr>\n",
       "    <tr>\n",
       "      <th>25%</th>\n",
       "      <td>1038.500000</td>\n",
       "      <td>48.000000</td>\n",
       "      <td>65.100000</td>\n",
       "      <td>62.000000</td>\n",
       "      <td>72.400000</td>\n",
       "      <td>17.200000</td>\n",
       "      <td>362.000000</td>\n",
       "      <td>1.000000</td>\n",
       "      <td>0.000000</td>\n",
       "      <td>0.000000</td>\n",
       "      <td>0.000000</td>\n",
       "      <td>0.000000</td>\n",
       "      <td>25.806503</td>\n",
       "      <td>0.000000</td>\n",
       "      <td>33.000000</td>\n",
       "      <td>3.021613</td>\n",
       "    </tr>\n",
       "    <tr>\n",
       "      <th>50%</th>\n",
       "      <td>2076.000000</td>\n",
       "      <td>57.000000</td>\n",
       "      <td>78.700000</td>\n",
       "      <td>65.000000</td>\n",
       "      <td>86.200000</td>\n",
       "      <td>22.200000</td>\n",
       "      <td>508.000000</td>\n",
       "      <td>1.000000</td>\n",
       "      <td>0.000000</td>\n",
       "      <td>0.000000</td>\n",
       "      <td>0.000000</td>\n",
       "      <td>0.000000</td>\n",
       "      <td>28.982306</td>\n",
       "      <td>0.000000</td>\n",
       "      <td>64.000000</td>\n",
       "      <td>4.357873</td>\n",
       "    </tr>\n",
       "    <tr>\n",
       "      <th>75%</th>\n",
       "      <td>3113.500000</td>\n",
       "      <td>66.000000</td>\n",
       "      <td>92.300000</td>\n",
       "      <td>67.000000</td>\n",
       "      <td>99.800000</td>\n",
       "      <td>28.600000</td>\n",
       "      <td>644.000000</td>\n",
       "      <td>1.000000</td>\n",
       "      <td>0.000000</td>\n",
       "      <td>0.000000</td>\n",
       "      <td>0.000000</td>\n",
       "      <td>1.000000</td>\n",
       "      <td>31.744224</td>\n",
       "      <td>0.000000</td>\n",
       "      <td>110.000000</td>\n",
       "      <td>5.869446</td>\n",
       "    </tr>\n",
       "    <tr>\n",
       "      <th>max</th>\n",
       "      <td>4151.000000</td>\n",
       "      <td>94.000000</td>\n",
       "      <td>146.500000</td>\n",
       "      <td>77.000000</td>\n",
       "      <td>136.400000</td>\n",
       "      <td>77.900000</td>\n",
       "      <td>720.000000</td>\n",
       "      <td>1.000000</td>\n",
       "      <td>1.000000</td>\n",
       "      <td>1.000000</td>\n",
       "      <td>1.000000</td>\n",
       "      <td>1.000000</td>\n",
       "      <td>66.178116</td>\n",
       "      <td>1.000000</td>\n",
       "      <td>120.000000</td>\n",
       "      <td>12.236907</td>\n",
       "    </tr>\n",
       "  </tbody>\n",
       "</table>\n",
       "</div>"
      ],
      "text/plain": [
       "                id          age    weight_kg  height_inch         eGFR  \\\n",
       "count  4151.000000  4151.000000  4151.000000  4151.000000  4151.000000   \n",
       "mean   2076.000000    57.082390    79.198699    64.804384    85.953361   \n",
       "std    1198.434813    13.563593    19.655275     3.617600    19.978272   \n",
       "min       1.000000    22.000000    35.400000    53.000000    18.600000   \n",
       "25%    1038.500000    48.000000    65.100000    62.000000    72.400000   \n",
       "50%    2076.000000    57.000000    78.700000    65.000000    86.200000   \n",
       "75%    3113.500000    66.000000    92.300000    67.000000    99.800000   \n",
       "max    4151.000000    94.000000   146.500000    77.000000   136.400000   \n",
       "\n",
       "           astmean  cumulative_dose       female     diabetes    tamoxifen  \\\n",
       "count  4151.000000      4151.000000  4151.000000  4151.000000  4151.000000   \n",
       "mean     23.880029       490.597360     0.825584     0.065285     0.003614   \n",
       "std       9.482674       170.307368     0.379512     0.247059     0.060012   \n",
       "min       6.300000        26.000000     0.000000     0.000000     0.000000   \n",
       "25%      17.200000       362.000000     1.000000     0.000000     0.000000   \n",
       "50%      22.200000       508.000000     1.000000     0.000000     0.000000   \n",
       "75%      28.600000       644.000000     1.000000     0.000000     0.000000   \n",
       "max      77.900000       720.000000     1.000000     1.000000     1.000000   \n",
       "\n",
       "       retinaltoxin     highdose          bmi      outcome     fup_time  \\\n",
       "count   4151.000000  4151.000000  4151.000000  4151.000000  4151.000000   \n",
       "mean       0.011082     0.387377    28.773014     0.028668    67.933510   \n",
       "std        0.104697     0.487210     4.689372     0.166891    39.117154   \n",
       "min        0.000000     0.000000    16.633505     0.000000     1.000000   \n",
       "25%        0.000000     0.000000    25.806503     0.000000    33.000000   \n",
       "50%        0.000000     0.000000    28.982306     0.000000    64.000000   \n",
       "75%        0.000000     1.000000    31.744224     0.000000   110.000000   \n",
       "max        1.000000     1.000000    66.178116     1.000000   120.000000   \n",
       "\n",
       "            dosewt  \n",
       "count  4151.000000  \n",
       "mean      4.503707  \n",
       "std       1.974297  \n",
       "min       0.068902  \n",
       "25%       3.021613  \n",
       "50%       4.357873  \n",
       "75%       5.869446  \n",
       "max      12.236907  "
      ]
     },
     "execution_count": 7,
     "metadata": {},
     "output_type": "execute_result"
    }
   ],
   "source": [
    "df.describe()"
   ]
  },
  {
   "cell_type": "markdown",
   "id": "9f9efddd-50fc-4e88-8ecd-f67418b55379",
   "metadata": {},
   "source": [
    "## Preparing our dataset for modelling"
   ]
  },
  {
   "cell_type": "code",
   "execution_count": 8,
   "id": "685bca68-2f3d-440a-a8a3-1457c301cec2",
   "metadata": {
    "tags": []
   },
   "outputs": [],
   "source": [
    "X, y = df.drop(['outcome', 'fup_time'], axis=1), list(df[['outcome', 'fup_time']].itertuples(index=False, name=None))\n",
    "y = np.array(y, dtype=[('Status', '?'), ('time', '<f8')])\n",
    "y_fs = df['outcome']"
   ]
  },
  {
   "cell_type": "code",
   "execution_count": 9,
   "id": "c945ff99-2e0d-4be1-ae1e-a88d6442d792",
   "metadata": {
    "tags": []
   },
   "outputs": [],
   "source": [
    "random_state = 42\n",
    "X_train, X_test, y_train, y_test = train_test_split(X, y, test_size=.20, random_state=random_state)\n",
    "X_train, X_test, y_train_fs, y_test_fs = train_test_split(X, y_fs, test_size=.20, random_state=random_state)"
   ]
  },
  {
   "cell_type": "code",
   "execution_count": 10,
   "id": "954e7ca3-67f0-4736-aa92-91f735db2709",
   "metadata": {
    "tags": []
   },
   "outputs": [],
   "source": [
    "# Oversampling applied to dataset\n",
    "from imblearn.over_sampling import RandomOverSampler\n",
    "oversampler = RandomOverSampler()\n",
    "X_train_res,  y_train_res = oversampler.fit_resample(X_train, y_train_fs)\n",
    "\n",
    "X_train_oversampled = pd.DataFrame(columns=X_train.columns)\n",
    "y_train_oversampled = None\n",
    "sample_indices =  np.transpose(np.unique(oversampler.sample_indices_, return_counts=True))\n",
    "\n",
    "index_destiny = 0\n",
    "for index, times in sample_indices:\n",
    "    for over_samp_iteration in range(times):\n",
    "        X_train_oversampled.loc[index_destiny] = X_train_res.iloc[index]\n",
    "        if y_train_oversampled is None:\n",
    "            y_train_oversampled = y_train[0]\n",
    "        else:\n",
    "            y_train_oversampled = np.append(y_train_oversampled, y_train[index])\n",
    "        index_destiny += 1"
   ]
  },
  {
   "cell_type": "code",
   "execution_count": 11,
   "id": "8ba240e6-d635-4f50-9d0e-673d68afbb90",
   "metadata": {
    "tags": []
   },
   "outputs": [],
   "source": [
    "ohe = OneHotEncoder()\n",
    "cat_cols = X_train.select_dtypes(include='object').columns\n",
    "num_columns = X_train.drop(cat_cols, axis=1).columns.tolist()\n",
    "\n",
    "X_train = pd.concat([pd.DataFrame(ohe.fit_transform(X_train[cat_cols]).toarray()), \n",
    "                     X_train.drop(cat_cols, axis=1).reset_index(drop=True)], axis=1)\n",
    "\n",
    "X_train_oversampled = pd.concat([pd.DataFrame(ohe.transform(X_train_oversampled[cat_cols]).toarray()), \n",
    "                                 X_train_oversampled.drop(cat_cols, axis=1).reset_index(drop=True)], axis=1)\n",
    "\n",
    "X_test = pd.concat([pd.DataFrame(ohe.transform(X_test[cat_cols]).toarray()), \n",
    "                     X_test.drop(cat_cols, axis=1).reset_index(drop=True)], axis=1)\n",
    "\n",
    "cat_cols = ohe.get_feature_names_out().tolist()\n",
    "cols = num_columns + cat_cols\n",
    "X_train.columns = cols\n",
    "X_train_oversampled.columns = cols\n",
    "X_test.columns = cols\n",
    "\n",
    "X_train = X_train.drop('id', axis=1); X_test = X_test.drop('id', axis=1); X_train_oversampled = X_train_oversampled.drop('id', axis=1)"
   ]
  },
  {
   "cell_type": "code",
   "execution_count": 12,
   "id": "3f535237-2304-46d5-94b1-3c1c20de125d",
   "metadata": {
    "tags": []
   },
   "outputs": [],
   "source": [
    "std_scaler = StandardScaler()\n",
    "X_train = pd.DataFrame(std_scaler.fit_transform(X_train), columns=X_train.columns)\n",
    "X_train_oversampled = pd.DataFrame(std_scaler.transform(X_train_oversampled), columns=X_train_oversampled.columns)\n",
    "X_test = pd.DataFrame(std_scaler.transform(X_test), columns=X_test.columns)"
   ]
  },
  {
   "cell_type": "code",
   "execution_count": 13,
   "id": "8d31a883-ef9a-4d5c-b45a-65e506eaf64f",
   "metadata": {
    "tags": []
   },
   "outputs": [],
   "source": [
    "# Random Forest Classifier\n",
    "RF = RandomForestClassifier(n_jobs=-1)\n",
    "# Random Survival Forest\n",
    "RSF = RandomSurvivalForest(n_jobs=-1)\n",
    "# Cross Validation strategy\n",
    "cv = RepeatedStratifiedKFold(n_splits=5, n_repeats=2)"
   ]
  },
  {
   "cell_type": "markdown",
   "id": "3897651c-e5ae-46c6-a130-c1e28aa630f8",
   "metadata": {},
   "source": [
    "## Feature Selection"
   ]
  },
  {
   "cell_type": "code",
   "execution_count": 14,
   "id": "4f4e849d-1619-416a-ae27-966e3f45c666",
   "metadata": {
    "tags": []
   },
   "outputs": [],
   "source": [
    "# Feature selection not oversampled\n",
    "## Forward\n",
    "fs_Forward = SequentialFeatureSelector(estimator=RF, cv=cv, scoring='f1', direction='forward', n_features_to_select='auto')\n",
    "fs_Forward.fit(X_train, y_train_fs)\n",
    "## Backward\n",
    "fs_Backward = SequentialFeatureSelector(estimator=RF, cv=cv, scoring='f1', direction='backward', n_features_to_select='auto')\n",
    "fs_Backward.fit(X_train, y_train_fs)\n",
    "## Wrapper\n",
    "fs_Wrapper = RFECV(estimator=RF, cv=cv, scoring='f1', min_features_to_select=1)\n",
    "fs_Wrapper.fit(X_train, y_train_fs)\n",
    "# ANOVA\n",
    "fs_anova = SelectKBest(score_func=f_classif, k=X_train.shape[1]//2)\n",
    "fs_anova.fit(X_train, y_train_fs);\n",
    "\n",
    "# Feature selection oversampled\n",
    "fs_Forward_os = SequentialFeatureSelector(estimator=RF, cv=cv, scoring='f1', direction='forward', n_features_to_select='auto')\n",
    "fs_Forward_os.fit(X_train_oversampled, y_train_res)\n",
    "## Backward\n",
    "fs_Backward_os = SequentialFeatureSelector(estimator=RF, cv=cv, scoring='f1', direction='backward', n_features_to_select='auto')\n",
    "fs_Backward_os.fit(X_train_oversampled, y_train_res)\n",
    "## Wrapper\n",
    "fs_Wrapper_os = RFECV(estimator=RF, cv=cv, scoring='f1', min_features_to_select=1)\n",
    "fs_Wrapper_os.fit(X_train_oversampled, y_train_res)\n",
    "# ANOVA\n",
    "fs_anova_os = SelectKBest(score_func=f_classif, k=X_train.shape[1]//2)\n",
    "fs_anova_os.fit(X_train_oversampled, y_train_res);"
   ]
  },
  {
   "cell_type": "markdown",
   "id": "51da8a76-0b35-4f75-9ca4-1713281aa9c3",
   "metadata": {},
   "source": [
    "### Best Feature Selection Method"
   ]
  },
  {
   "cell_type": "code",
   "execution_count": 15,
   "id": "9722a7e1-da15-4721-9e6d-f218812cfd2e",
   "metadata": {
    "tags": []
   },
   "outputs": [],
   "source": [
    "# Select best feature selection method\n",
    "fs_methods = [fs_Forward, fs_Backward, fs_Wrapper, fs_anova]\n",
    "fs_score = 0\n",
    "fs_columns = X_train.columns\n",
    "best_fs_method = None\n",
    "for fs_method in fs_methods:\n",
    "    if fs_method is None:\n",
    "        cvs = cross_val_score(estimator=RF, X=X_train, y=y_train_fs, scoring='f1', cv=cv)\n",
    "        cvs_score = np.mean(cvs)\n",
    "    else:\n",
    "        cvs = cross_val_score(estimator=RF, X=X_train[fs_method.get_feature_names_out()], \n",
    "                              y=y_train_fs, scoring='f1', cv=cv)\n",
    "        cvs_score = np.mean(cvs)\n",
    "        \n",
    "    if cvs_score > fs_score:\n",
    "        fs_score = cvs_score\n",
    "        best_fs_method = fs_method\n",
    "        fs_columns = fs_method.get_feature_names_out()\n",
    "        \n",
    "# Select best feature selection method\n",
    "fs_methods_os = [fs_Forward_os, fs_Backward_os, fs_Wrapper_os, fs_anova_os]\n",
    "fs_score_os = 0\n",
    "fs_columns_os = X_train_oversampled.columns\n",
    "best_fs_method_os = None\n",
    "for fs_method in fs_methods_os:\n",
    "    if fs_method is None:\n",
    "        cvs = cross_val_score(estimator=RF, X=X_train_oversampled, y=y_train_res, scoring='f1', cv=cv)\n",
    "        cvs_score = np.mean(cvs)\n",
    "    else:\n",
    "        cvs = cross_val_score(estimator=RF, X=X_train_oversampled[fs_method.get_feature_names_out()], \n",
    "                              y=y_train_res, scoring='f1', cv=cv)\n",
    "        cvs_score = np.mean(cvs)\n",
    "        \n",
    "    if cvs_score > fs_score:\n",
    "        fs_score_os = cvs_score\n",
    "        best_fs_method_os = fs_method\n",
    "        fs_columns_os = fs_method.get_feature_names_out()"
   ]
  },
  {
   "cell_type": "markdown",
   "id": "90bc6c1f-684e-4563-b63b-353d3f0596e7",
   "metadata": {},
   "source": [
    "## RSF Experiments"
   ]
  },
  {
   "cell_type": "code",
   "execution_count": 16,
   "id": "6d9b1b43-bda7-435b-bfd7-937a076d198a",
   "metadata": {
    "tags": []
   },
   "outputs": [
    {
     "name": "stderr",
     "output_type": "stream",
     "text": [
      "/usr/local/lib/python3.9/dist-packages/sklearn/model_selection/_split.py:680: UserWarning: The least populated class in y has only 1 members, which is less than n_splits=5.\n",
      "  warnings.warn(\n",
      "/usr/local/lib/python3.9/dist-packages/sklearn/model_selection/_split.py:680: UserWarning: The least populated class in y has only 1 members, which is less than n_splits=5.\n",
      "  warnings.warn(\n"
     ]
    },
    {
     "name": "stdout",
     "output_type": "stream",
     "text": [
      "Best Performance: Oversampling\n"
     ]
    }
   ],
   "source": [
    "# Cross Validation No Oversampling\n",
    "cv_RSF = np.mean(cross_val_score(estimator=RSF, X=X_train[fs_columns].values, \n",
    "                              y=y_train, cv=cv))\n",
    "# Cross Validation Oversampling\n",
    "cv_RSF_os = np.mean(cross_val_score(estimator=RSF, X=X_train_oversampled[fs_columns_os].values, \n",
    "                              y=y_train_oversampled, cv=cv))\n",
    "\n",
    "if cv_RSF > cv_RSF_os:\n",
    "    RSF.fit(X_train[fs_columns].values, y_train)\n",
    "    print('Best Performance: No Oversampling')\n",
    "else:\n",
    "    RSF.fit(X_train_oversampled[fs_columns_os].values, y_train_oversampled)\n",
    "    X_train = X_train_oversampled\n",
    "    fs_columns = fs_columns_os\n",
    "    y_train = y_train_oversampled\n",
    "    print('Best Performance: Oversampling')"
   ]
  },
  {
   "cell_type": "code",
   "execution_count": 17,
   "id": "35a8f595-d623-4228-a202-e310ba4e29e5",
   "metadata": {
    "tags": []
   },
   "outputs": [
    {
     "name": "stdout",
     "output_type": "stream",
     "text": [
      "Best Performance: Oversampling\n"
     ]
    }
   ],
   "source": [
    "if cv_RSF > cv_RSF_os:\n",
    "    RSF.fit(X_train[fs_columns].values, y_train)\n",
    "    print('Best Performance: No Oversampling')\n",
    "else:\n",
    "    RSF.fit(X_train_oversampled[fs_columns_os].values, y_train_oversampled)\n",
    "    X_train = X_train_oversampled\n",
    "    fs_columns = fs_columns_os\n",
    "    y_train = y_train_oversampled\n",
    "    print('Best Performance: Oversampling')"
   ]
  },
  {
   "cell_type": "code",
   "execution_count": 18,
   "id": "d0bdb112-cee4-40e9-a797-a3df2d1a0e4e",
   "metadata": {
    "tags": []
   },
   "outputs": [
    {
     "name": "stdout",
     "output_type": "stream",
     "text": [
      "0.5033896095094164\n",
      "0.9699192038419513\n"
     ]
    }
   ],
   "source": [
    "print(cv_RSF)\n",
    "print(cv_RSF_os)"
   ]
  },
  {
   "cell_type": "code",
   "execution_count": 19,
   "id": "1a6d86dd-3033-44ac-94cb-b0177f830ed6",
   "metadata": {
    "tags": []
   },
   "outputs": [],
   "source": [
    "## Get survival probability over time\n",
    "RSF_surv_func = RSF.predict_survival_function(X_test[fs_columns].values, return_array=True)\n",
    "## Predicting risk scores\n",
    "RSF_risk_score = RSF.predict(X_test[fs_columns].values)"
   ]
  },
  {
   "cell_type": "code",
   "execution_count": 20,
   "id": "a42483c2-44c2-4cbc-8545-342ccbe43c85",
   "metadata": {
    "tags": []
   },
   "outputs": [
    {
     "data": {
      "image/png": "[encoded data removed]",
      "text/plain": [
       "<Figure size 864x576 with 1 Axes>"
      ]
     },
     "metadata": {
      "needs_background": "light"
     },
     "output_type": "display_data"
    }
   ],
   "source": [
    "# Sample 5 spread entries\n",
    "scores_cuts = pd.DataFrame({'score':RSF_risk_score, 'cut':pd.cut(RSF_risk_score, 5)})\n",
    "scores_cuts['cut'].replace(np.sort(scores_cuts.cut.unique()),range(len(scores_cuts.cut.unique())), inplace=True)\n",
    "ID_to_sample = []\n",
    "for unique_cuts in scores_cuts['cut'].unique():\n",
    "    ID_to_sample.append(scores_cuts[scores_cuts['cut'] == unique_cuts].sample().index)\n",
    "\n",
    "sample = np.squeeze(np.take(RSF_surv_func, ID_to_sample, axis=0))\n",
    "sample = tuple(zip([idx[0] for idx in np.int16(ID_to_sample)], sample))\n",
    "# Plot the sample\n",
    "plt.figure(figsize=(12,8))\n",
    "for i, s in sample:\n",
    "    plt.step(RSF.event_times_, s, where=\"post\", label=str(i))\n",
    "\n",
    "plt.ylabel(\"Survival probability\")\n",
    "plt.xlabel(\"Time in months\")\n",
    "plt.legend()\n",
    "plt.grid(True)"
   ]
  },
  {
   "cell_type": "code",
   "execution_count": 90,
   "id": "02030aec-863b-4cf9-8d48-b5015dc1cd8d",
   "metadata": {},
   "outputs": [],
   "source": [
    "# FOR AUC SCORE\n",
    "def Survival_AUC_Score(survival_y_train, survival_x_test, survival_y_test, model, estimate, times):\n",
    "    mins = []\n",
    "    maxs = []\n",
    "    times = np.percentile(times, np.linspace(0, 80, 15))\n",
    "    for split in [survival_y_train, survival_y_test]:\n",
    "      mins.append(min(split, key = lambda t: t[1])[1])\n",
    "      maxs.append(max(split, key = lambda t: t[1])[1])\n",
    "    if mins[0] <= mins[1] < maxs[1] < maxs[0]:\n",
    "        auc_score, _ = cumulative_dynamic_auc(survival_y_train, survival_y_test, estimate, times)\n",
    "        auc_score = np.nan_to_num(auc_score, nan=np.nanmin(auc_score))\n",
    "        mean_auc_score = np.mean(auc_score)\n",
    "    else:\n",
    "        s_x_test = survival_x_test.values.copy(); s_y_test = survival_y_test.copy()\n",
    "        rows_to_omit = []\n",
    "        for entry, data in enumerate(s_y_test):\n",
    "            if data[1] == maxs[0]:\n",
    "                rows_to_omit.append(entry)\n",
    "        s_x_test = np.delete(s_x_test, rows_to_omit, axis=0)\n",
    "        s_y_test = np.delete(s_y_test, rows_to_omit, axis=0)\n",
    "        risk_score = model.predict(s_x_test)\n",
    "        auc_score, _ = cumulative_dynamic_auc(survival_y_train, s_y_test, risk_score, times)\n",
    "        auc_score = np.nan_to_num(auc_score, nan=np.nanmin(auc_score))\n",
    "        mean_auc_score = np.mean(auc_score)\n",
    "    return auc_score, mean_auc_score"
   ]
  },
  {
   "cell_type": "code",
   "execution_count": 98,
   "id": "c2a4943b-2598-4a07-9b78-d18a23a7e6ab",
   "metadata": {},
   "outputs": [
    {
     "name": "stdout",
     "output_type": "stream",
     "text": [
      "AUC Score: 0.27904003470151495\n"
     ]
    },
    {
     "name": "stderr",
     "output_type": "stream",
     "text": [
      "/usr/local/lib/python3.9/dist-packages/sksurv/metrics.py:493: RuntimeWarning: invalid value encountered in divide\n",
      "  true_pos = cumsum_tp / cumsum_tp[-1]\n"
     ]
    }
   ],
   "source": [
    "AUC_Score, MEAN_AUC_Score = Survival_AUC_Score(y_train, X_test[fs_columns], y_test, RSF, RSF_risk_score, RSF.event_times_)\n",
    "print(f'AUC Score: {MEAN_AUC_Score}')"
   ]
  },
  {
   "cell_type": "markdown",
   "id": "b9d5ceea-6ced-4ad6-a488-4f68cd1a0f69",
   "metadata": {
    "tags": []
   },
   "source": [
    "### Best Technique"
   ]
  },
  {
   "cell_type": "markdown",
   "id": "960b7d73-e545-40fa-8f21-7275433f2f72",
   "metadata": {},
   "source": [
    "## Hyperparameter Tuning"
   ]
  },
  {
   "cell_type": "code",
   "execution_count": 38,
   "id": "ac25ad4a-83c0-4d87-94dc-697e65ef4f78",
   "metadata": {
    "execution": {
     "iopub.execute_input": "2022-08-30T15:37:07.081438Z",
     "iopub.status.busy": "2022-08-30T15:37:07.080937Z",
     "iopub.status.idle": "2022-08-30T17:36:19.498745Z",
     "shell.execute_reply": "2022-08-30T17:36:19.497759Z",
     "shell.execute_reply.started": "2022-08-30T15:37:07.081400Z"
    }
   },
   "outputs": [],
   "source": [
    "# Grid search Random Forest\n",
    "param_grid_RSF = {'n_estimators': [100, 200, 300, 400],  # Number of estimators\n",
    "                  'bootstrap': [True, False] # sampling for each training tree               \n",
    "                }\n",
    "tuned_RSF = GridSearchCV(RSF, \n",
    "                       param_grid=param_grid_RSF, cv = cv)\n",
    "tuned_RSF.fit(X_train[fs_columns].values, y_train);"
   ]
  },
  {
   "cell_type": "code",
   "execution_count": 40,
   "id": "8402aa68-eefb-4213-bb49-eaf4f063da27",
   "metadata": {
    "execution": {
     "iopub.execute_input": "2022-08-30T18:06:16.728286Z",
     "iopub.status.busy": "2022-08-30T18:06:16.727441Z",
     "iopub.status.idle": "2022-08-30T18:06:16.780702Z",
     "shell.execute_reply": "2022-08-30T18:06:16.779755Z",
     "shell.execute_reply.started": "2022-08-30T18:06:16.728257Z"
    }
   },
   "outputs": [],
   "source": [
    "# Predicting risk scores\n",
    "RSF_risk_score = tuned_RSF.predict(X_test[fs_columns].values)"
   ]
  },
  {
   "cell_type": "code",
   "execution_count": 41,
   "id": "f1ae7022-43a0-4bf8-a932-2b45a472c20d",
   "metadata": {
    "execution": {
     "iopub.execute_input": "2022-08-30T18:06:18.050133Z",
     "iopub.status.busy": "2022-08-30T18:06:18.049709Z",
     "iopub.status.idle": "2022-08-30T18:06:18.154605Z",
     "shell.execute_reply": "2022-08-30T18:06:18.153638Z",
     "shell.execute_reply.started": "2022-08-30T18:06:18.050132Z"
    }
   },
   "outputs": [
    {
     "name": "stdout",
     "output_type": "stream",
     "text": [
      "Prior Tuning 0.33030999829671265\n",
      "After Tuning 0.3839635496508261\n"
     ]
    }
   ],
   "source": [
    "# Concordance Scores\n",
    "rsf_score = RSF.score(X_test[fs_columns].values, y_test)\n",
    "tuned_score = tuned_RSF.score(X_test[fs_columns].values, y_test)\n",
    "print(f'Prior Tuning {rsf_score}')\n",
    "print(f'After Tuning {tuned_score}')"
   ]
  },
  {
   "cell_type": "code",
   "execution_count": 28,
   "id": "aaf9ba03-34ed-4d36-a04b-3ed53d15d7b1",
   "metadata": {
    "execution": {
     "iopub.execute_input": "2022-08-30T14:40:10.809304Z",
     "iopub.status.busy": "2022-08-30T14:40:10.808968Z",
     "iopub.status.idle": "2022-08-30T14:40:16.900061Z",
     "shell.execute_reply": "2022-08-30T14:40:16.899259Z",
     "shell.execute_reply.started": "2022-08-30T14:40:10.809280Z"
    }
   },
   "outputs": [
    {
     "data": {
      "text/html": [
       "<div>\n",
       "<style scoped>\n",
       "    .dataframe tbody tr th:only-of-type {\n",
       "        vertical-align: middle;\n",
       "    }\n",
       "\n",
       "    .dataframe tbody tr th {\n",
       "        vertical-align: top;\n",
       "    }\n",
       "\n",
       "    .dataframe thead th {\n",
       "        text-align: right;\n",
       "    }\n",
       "</style>\n",
       "<table border=\"1\" class=\"dataframe\">\n",
       "  <thead>\n",
       "    <tr style=\"text-align: right;\">\n",
       "      <th></th>\n",
       "      <th>importances_mean</th>\n",
       "      <th>importances_std</th>\n",
       "    </tr>\n",
       "  </thead>\n",
       "  <tbody>\n",
       "    <tr>\n",
       "      <th>highdose</th>\n",
       "      <td>0.000020</td>\n",
       "      <td>0.022088</td>\n",
       "    </tr>\n",
       "    <tr>\n",
       "      <th>hcqindication_RA</th>\n",
       "      <td>-0.013595</td>\n",
       "      <td>0.017917</td>\n",
       "    </tr>\n",
       "    <tr>\n",
       "      <th>diabetes</th>\n",
       "      <td>-0.024050</td>\n",
       "      <td>0.016298</td>\n",
       "    </tr>\n",
       "    <tr>\n",
       "      <th>tamoxifen</th>\n",
       "      <td>-0.027315</td>\n",
       "      <td>0.028201</td>\n",
       "    </tr>\n",
       "    <tr>\n",
       "      <th>weight_kg</th>\n",
       "      <td>-0.032343</td>\n",
       "      <td>0.019196</td>\n",
       "    </tr>\n",
       "    <tr>\n",
       "      <th>hcqindication_lupus</th>\n",
       "      <td>-0.068566</td>\n",
       "      <td>0.058145</td>\n",
       "    </tr>\n",
       "    <tr>\n",
       "      <th>retinaltoxin</th>\n",
       "      <td>-0.081122</td>\n",
       "      <td>0.044620</td>\n",
       "    </tr>\n",
       "    <tr>\n",
       "      <th>hcqindication_Sjogrens syndrome</th>\n",
       "      <td>-0.086374</td>\n",
       "      <td>0.035687</td>\n",
       "    </tr>\n",
       "    <tr>\n",
       "      <th>dosewt</th>\n",
       "      <td>-0.089777</td>\n",
       "      <td>0.036573</td>\n",
       "    </tr>\n",
       "    <tr>\n",
       "      <th>bmi</th>\n",
       "      <td>-0.104264</td>\n",
       "      <td>0.045914</td>\n",
       "    </tr>\n",
       "  </tbody>\n",
       "</table>\n",
       "</div>"
      ],
      "text/plain": [
       "                                 importances_mean  importances_std\n",
       "highdose                                 0.000020         0.022088\n",
       "hcqindication_RA                        -0.013595         0.017917\n",
       "diabetes                                -0.024050         0.016298\n",
       "tamoxifen                               -0.027315         0.028201\n",
       "weight_kg                               -0.032343         0.019196\n",
       "hcqindication_lupus                     -0.068566         0.058145\n",
       "retinaltoxin                            -0.081122         0.044620\n",
       "hcqindication_Sjogrens syndrome         -0.086374         0.035687\n",
       "dosewt                                  -0.089777         0.036573\n",
       "bmi                                     -0.104264         0.045914"
      ]
     },
     "execution_count": 28,
     "metadata": {},
     "output_type": "execute_result"
    }
   ],
   "source": [
    "from sklearn.inspection import permutation_importance\n",
    "\n",
    "result_pi = permutation_importance(\n",
    "    RSF, X_test[fs_columns].values, y_test, n_repeats=15, \n",
    ")\n",
    "\n",
    "top_predictors_df = pd.DataFrame(\n",
    "    {k: result_pi[k] for k in (\"importances_mean\", \"importances_std\")},\n",
    "    index=X_test[fs_columns].columns).sort_values(by=\"importances_mean\", ascending=False)\n",
    "\n",
    "top_predictors_df"
   ]
  },
  {
   "cell_type": "code",
   "execution_count": 29,
   "id": "86e049df-5975-4b9c-8ac9-83a39217f5e5",
   "metadata": {
    "execution": {
     "iopub.execute_input": "2022-08-30T14:40:23.594280Z",
     "iopub.status.busy": "2022-08-30T14:40:23.593945Z",
     "iopub.status.idle": "2022-08-30T14:40:23.778995Z",
     "shell.execute_reply": "2022-08-30T14:40:23.778117Z",
     "shell.execute_reply.started": "2022-08-30T14:40:23.594256Z"
    }
   },
   "outputs": [
    {
     "data": {
      "image/png": "[encoded data removed]",
      "text/plain": [
       "<Figure size 432x288 with 1 Axes>"
      ]
     },
     "metadata": {
      "needs_background": "light"
     },
     "output_type": "display_data"
    }
   ],
   "source": [
    "top_predictors_df.plot.bar(yerr='importances_std')\n",
    "plt.xlabel('Features');"
   ]
  }
 ],
 "metadata": {
  "kernelspec": {
   "display_name": "Python 3 (ipykernel)",
   "language": "python",
   "name": "python3"
  },
  "language_info": {
   "codemirror_mode": {
    "name": "ipython",
    "version": 3
   },
   "file_extension": ".py",
   "mimetype": "text/x-python",
   "name": "python",
   "nbconvert_exporter": "python",
   "pygments_lexer": "ipython3",
   "version": "3.9.13"
  }
 },
 "nbformat": 4,
 "nbformat_minor": 5
}
