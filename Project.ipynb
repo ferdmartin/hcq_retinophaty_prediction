{
 "cells": [
  {
   "cell_type": "markdown",
   "id": "8278eaa5-812c-45c2-8ee2-abfc86013222",
   "metadata": {},
   "source": [
    "# hcq_retinophaty_prediction"
   ]
  },
  {
   "cell_type": "markdown",
   "id": "71630314-9a3b-47af-84f9-939fdde03c35",
   "metadata": {},
   "source": [
    "## Import libraries and read data"
   ]
  },
  {
   "cell_type": "code",
   "execution_count": 1,
   "id": "cd148df5-4d62-440b-8d00-c1f48527687e",
   "metadata": {},
   "outputs": [],
   "source": [
    "import numpy as np\n",
    "import pandas as pd\n",
    "from sklearn.model_selection import train_test_split, RepeatedStratifiedKFold, GridSearchCV, cross_val_score\n",
    "from sklearn.preprocessing import OneHotEncoder, StandardScaler\n",
    "from sklearn.ensemble import RandomForestClassifier, BaggingClassifier\n",
    "from sklearn.feature_selection import RFECV, SequentialFeatureSelector, SelectKBest,f_classif\n",
    "from sklearn.metrics import accuracy_score, f1_score, classification_report, precision_score, recall_score\n",
    "import imblearn\n",
    "from imblearn.pipeline import make_pipeline"
   ]
  },
  {
   "cell_type": "code",
   "execution_count": 2,
   "id": "0d929f81-49ea-4c8f-817a-01b54305066b",
   "metadata": {},
   "outputs": [],
   "source": [
    "df = pd.read_csv('https://raw.githubusercontent.com/ferdmartin/hcq_retinophaty_prediction/main/dummydata_rsf_7_20_22.csv')"
   ]
  },
  {
   "cell_type": "markdown",
   "id": "c49cdf10-96ff-460b-9503-5764f63e1c98",
   "metadata": {},
   "source": [
    "## Exploring dataset"
   ]
  },
  {
   "cell_type": "code",
   "execution_count": 3,
   "id": "3d4574ee-49a2-4cff-901f-ae3cd419e5ea",
   "metadata": {},
   "outputs": [
    {
     "data": {
      "text/html": [
       "<div>\n",
       "<style scoped>\n",
       "    .dataframe tbody tr th:only-of-type {\n",
       "        vertical-align: middle;\n",
       "    }\n",
       "\n",
       "    .dataframe tbody tr th {\n",
       "        vertical-align: top;\n",
       "    }\n",
       "\n",
       "    .dataframe thead th {\n",
       "        text-align: right;\n",
       "    }\n",
       "</style>\n",
       "<table border=\"1\" class=\"dataframe\">\n",
       "  <thead>\n",
       "    <tr style=\"text-align: right;\">\n",
       "      <th></th>\n",
       "      <th>id</th>\n",
       "      <th>age</th>\n",
       "      <th>weight_kg</th>\n",
       "      <th>height_inch</th>\n",
       "      <th>eGFR</th>\n",
       "      <th>astmean</th>\n",
       "      <th>cumulative_dose</th>\n",
       "      <th>female</th>\n",
       "      <th>diabetes</th>\n",
       "      <th>tamoxifen</th>\n",
       "      <th>retinaltoxin</th>\n",
       "      <th>highdose</th>\n",
       "      <th>race</th>\n",
       "      <th>hcqindication</th>\n",
       "      <th>bmi</th>\n",
       "      <th>outcome</th>\n",
       "      <th>fup_time</th>\n",
       "      <th>dosewt</th>\n",
       "    </tr>\n",
       "  </thead>\n",
       "  <tbody>\n",
       "    <tr>\n",
       "      <th>0</th>\n",
       "      <td>1</td>\n",
       "      <td>50</td>\n",
       "      <td>67.7</td>\n",
       "      <td>63</td>\n",
       "      <td>76.1</td>\n",
       "      <td>18.3</td>\n",
       "      <td>357.0</td>\n",
       "      <td>1</td>\n",
       "      <td>0</td>\n",
       "      <td>0</td>\n",
       "      <td>0</td>\n",
       "      <td>1</td>\n",
       "      <td>White</td>\n",
       "      <td>lupus</td>\n",
       "      <td>26.438702</td>\n",
       "      <td>0</td>\n",
       "      <td>120</td>\n",
       "      <td>6.257509</td>\n",
       "    </tr>\n",
       "    <tr>\n",
       "      <th>1</th>\n",
       "      <td>2</td>\n",
       "      <td>59</td>\n",
       "      <td>80.8</td>\n",
       "      <td>65</td>\n",
       "      <td>89.1</td>\n",
       "      <td>23.3</td>\n",
       "      <td>564.0</td>\n",
       "      <td>1</td>\n",
       "      <td>0</td>\n",
       "      <td>0</td>\n",
       "      <td>0</td>\n",
       "      <td>0</td>\n",
       "      <td>White</td>\n",
       "      <td>Other/Unknown</td>\n",
       "      <td>29.642663</td>\n",
       "      <td>0</td>\n",
       "      <td>41</td>\n",
       "      <td>4.855915</td>\n",
       "    </tr>\n",
       "    <tr>\n",
       "      <th>2</th>\n",
       "      <td>3</td>\n",
       "      <td>56</td>\n",
       "      <td>76.5</td>\n",
       "      <td>65</td>\n",
       "      <td>84.8</td>\n",
       "      <td>21.5</td>\n",
       "      <td>520.0</td>\n",
       "      <td>1</td>\n",
       "      <td>0</td>\n",
       "      <td>0</td>\n",
       "      <td>0</td>\n",
       "      <td>1</td>\n",
       "      <td>White</td>\n",
       "      <td>lupus</td>\n",
       "      <td>28.065145</td>\n",
       "      <td>0</td>\n",
       "      <td>6</td>\n",
       "      <td>6.342299</td>\n",
       "    </tr>\n",
       "    <tr>\n",
       "      <th>3</th>\n",
       "      <td>4</td>\n",
       "      <td>70</td>\n",
       "      <td>96.5</td>\n",
       "      <td>68</td>\n",
       "      <td>104.5</td>\n",
       "      <td>31.1</td>\n",
       "      <td>240.0</td>\n",
       "      <td>1</td>\n",
       "      <td>0</td>\n",
       "      <td>0</td>\n",
       "      <td>0</td>\n",
       "      <td>0</td>\n",
       "      <td>White</td>\n",
       "      <td>RA</td>\n",
       "      <td>32.347599</td>\n",
       "      <td>0</td>\n",
       "      <td>44</td>\n",
       "      <td>2.039484</td>\n",
       "    </tr>\n",
       "    <tr>\n",
       "      <th>4</th>\n",
       "      <td>5</td>\n",
       "      <td>59</td>\n",
       "      <td>80.5</td>\n",
       "      <td>65</td>\n",
       "      <td>88.8</td>\n",
       "      <td>23.2</td>\n",
       "      <td>568.0</td>\n",
       "      <td>1</td>\n",
       "      <td>0</td>\n",
       "      <td>0</td>\n",
       "      <td>0</td>\n",
       "      <td>1</td>\n",
       "      <td>White</td>\n",
       "      <td>Sjogrens syndrome</td>\n",
       "      <td>29.532603</td>\n",
       "      <td>1</td>\n",
       "      <td>12</td>\n",
       "      <td>5.070541</td>\n",
       "    </tr>\n",
       "  </tbody>\n",
       "</table>\n",
       "</div>"
      ],
      "text/plain": [
       "   id  age  weight_kg  height_inch   eGFR  astmean  cumulative_dose  female  \\\n",
       "0   1   50       67.7           63   76.1     18.3            357.0       1   \n",
       "1   2   59       80.8           65   89.1     23.3            564.0       1   \n",
       "2   3   56       76.5           65   84.8     21.5            520.0       1   \n",
       "3   4   70       96.5           68  104.5     31.1            240.0       1   \n",
       "4   5   59       80.5           65   88.8     23.2            568.0       1   \n",
       "\n",
       "   diabetes  tamoxifen  retinaltoxin  highdose   race      hcqindication  \\\n",
       "0         0          0             0         1  White              lupus   \n",
       "1         0          0             0         0  White      Other/Unknown   \n",
       "2         0          0             0         1  White              lupus   \n",
       "3         0          0             0         0  White                 RA   \n",
       "4         0          0             0         1  White  Sjogrens syndrome   \n",
       "\n",
       "         bmi  outcome  fup_time    dosewt  \n",
       "0  26.438702        0       120  6.257509  \n",
       "1  29.642663        0        41  4.855915  \n",
       "2  28.065145        0         6  6.342299  \n",
       "3  32.347599        0        44  2.039484  \n",
       "4  29.532603        1        12  5.070541  "
      ]
     },
     "execution_count": 3,
     "metadata": {},
     "output_type": "execute_result"
    }
   ],
   "source": [
    "df.head()"
   ]
  },
  {
   "cell_type": "code",
   "execution_count": 4,
   "id": "ed9efe07-9968-4f40-a5ea-5a8518530071",
   "metadata": {},
   "outputs": [
    {
     "data": {
      "text/plain": [
       "0    4032\n",
       "1     119\n",
       "Name: outcome, dtype: int64"
      ]
     },
     "execution_count": 4,
     "metadata": {},
     "output_type": "execute_result"
    }
   ],
   "source": [
    "df.outcome.value_counts()\n",
    "# Imbalanced"
   ]
  },
  {
   "cell_type": "code",
   "execution_count": 5,
   "id": "6c2b48c3-2ed3-4814-aff5-e43d7195451f",
   "metadata": {},
   "outputs": [
    {
     "data": {
      "text/plain": [
       "id                 0\n",
       "age                0\n",
       "weight_kg          0\n",
       "height_inch        0\n",
       "eGFR               0\n",
       "astmean            0\n",
       "cumulative_dose    0\n",
       "female             0\n",
       "diabetes           0\n",
       "tamoxifen          0\n",
       "retinaltoxin       0\n",
       "highdose           0\n",
       "race               0\n",
       "hcqindication      0\n",
       "bmi                0\n",
       "outcome            0\n",
       "fup_time           0\n",
       "dosewt             0\n",
       "dtype: int64"
      ]
     },
     "execution_count": 5,
     "metadata": {},
     "output_type": "execute_result"
    }
   ],
   "source": [
    "df.isna().sum()\n",
    "# No nulls"
   ]
  },
  {
   "cell_type": "code",
   "execution_count": 6,
   "id": "2161a4f1-0432-4892-8eac-a0db72943940",
   "metadata": {},
   "outputs": [
    {
     "data": {
      "text/html": [
       "<div>\n",
       "<style scoped>\n",
       "    .dataframe tbody tr th:only-of-type {\n",
       "        vertical-align: middle;\n",
       "    }\n",
       "\n",
       "    .dataframe tbody tr th {\n",
       "        vertical-align: top;\n",
       "    }\n",
       "\n",
       "    .dataframe thead th {\n",
       "        text-align: right;\n",
       "    }\n",
       "</style>\n",
       "<table border=\"1\" class=\"dataframe\">\n",
       "  <thead>\n",
       "    <tr style=\"text-align: right;\">\n",
       "      <th></th>\n",
       "      <th>id</th>\n",
       "      <th>age</th>\n",
       "      <th>weight_kg</th>\n",
       "      <th>height_inch</th>\n",
       "      <th>eGFR</th>\n",
       "      <th>astmean</th>\n",
       "      <th>cumulative_dose</th>\n",
       "      <th>female</th>\n",
       "      <th>diabetes</th>\n",
       "      <th>tamoxifen</th>\n",
       "      <th>retinaltoxin</th>\n",
       "      <th>highdose</th>\n",
       "      <th>bmi</th>\n",
       "      <th>outcome</th>\n",
       "      <th>fup_time</th>\n",
       "      <th>dosewt</th>\n",
       "    </tr>\n",
       "  </thead>\n",
       "  <tbody>\n",
       "    <tr>\n",
       "      <th>count</th>\n",
       "      <td>4151.000000</td>\n",
       "      <td>4151.000000</td>\n",
       "      <td>4151.000000</td>\n",
       "      <td>4151.000000</td>\n",
       "      <td>4151.000000</td>\n",
       "      <td>4151.000000</td>\n",
       "      <td>4151.000000</td>\n",
       "      <td>4151.000000</td>\n",
       "      <td>4151.000000</td>\n",
       "      <td>4151.000000</td>\n",
       "      <td>4151.000000</td>\n",
       "      <td>4151.000000</td>\n",
       "      <td>4151.000000</td>\n",
       "      <td>4151.000000</td>\n",
       "      <td>4151.000000</td>\n",
       "      <td>4151.000000</td>\n",
       "    </tr>\n",
       "    <tr>\n",
       "      <th>mean</th>\n",
       "      <td>2076.000000</td>\n",
       "      <td>57.082390</td>\n",
       "      <td>79.198699</td>\n",
       "      <td>64.804384</td>\n",
       "      <td>85.953361</td>\n",
       "      <td>23.880029</td>\n",
       "      <td>490.597360</td>\n",
       "      <td>0.825584</td>\n",
       "      <td>0.065285</td>\n",
       "      <td>0.003614</td>\n",
       "      <td>0.011082</td>\n",
       "      <td>0.387377</td>\n",
       "      <td>28.773014</td>\n",
       "      <td>0.028668</td>\n",
       "      <td>67.933510</td>\n",
       "      <td>4.503707</td>\n",
       "    </tr>\n",
       "    <tr>\n",
       "      <th>std</th>\n",
       "      <td>1198.434813</td>\n",
       "      <td>13.563593</td>\n",
       "      <td>19.655275</td>\n",
       "      <td>3.617600</td>\n",
       "      <td>19.978272</td>\n",
       "      <td>9.482674</td>\n",
       "      <td>170.307368</td>\n",
       "      <td>0.379512</td>\n",
       "      <td>0.247059</td>\n",
       "      <td>0.060012</td>\n",
       "      <td>0.104697</td>\n",
       "      <td>0.487210</td>\n",
       "      <td>4.689372</td>\n",
       "      <td>0.166891</td>\n",
       "      <td>39.117154</td>\n",
       "      <td>1.974297</td>\n",
       "    </tr>\n",
       "    <tr>\n",
       "      <th>min</th>\n",
       "      <td>1.000000</td>\n",
       "      <td>22.000000</td>\n",
       "      <td>35.400000</td>\n",
       "      <td>53.000000</td>\n",
       "      <td>18.600000</td>\n",
       "      <td>6.300000</td>\n",
       "      <td>26.000000</td>\n",
       "      <td>0.000000</td>\n",
       "      <td>0.000000</td>\n",
       "      <td>0.000000</td>\n",
       "      <td>0.000000</td>\n",
       "      <td>0.000000</td>\n",
       "      <td>16.633505</td>\n",
       "      <td>0.000000</td>\n",
       "      <td>1.000000</td>\n",
       "      <td>0.068902</td>\n",
       "    </tr>\n",
       "    <tr>\n",
       "      <th>25%</th>\n",
       "      <td>1038.500000</td>\n",
       "      <td>48.000000</td>\n",
       "      <td>65.100000</td>\n",
       "      <td>62.000000</td>\n",
       "      <td>72.400000</td>\n",
       "      <td>17.200000</td>\n",
       "      <td>362.000000</td>\n",
       "      <td>1.000000</td>\n",
       "      <td>0.000000</td>\n",
       "      <td>0.000000</td>\n",
       "      <td>0.000000</td>\n",
       "      <td>0.000000</td>\n",
       "      <td>25.806503</td>\n",
       "      <td>0.000000</td>\n",
       "      <td>33.000000</td>\n",
       "      <td>3.021613</td>\n",
       "    </tr>\n",
       "    <tr>\n",
       "      <th>50%</th>\n",
       "      <td>2076.000000</td>\n",
       "      <td>57.000000</td>\n",
       "      <td>78.700000</td>\n",
       "      <td>65.000000</td>\n",
       "      <td>86.200000</td>\n",
       "      <td>22.200000</td>\n",
       "      <td>508.000000</td>\n",
       "      <td>1.000000</td>\n",
       "      <td>0.000000</td>\n",
       "      <td>0.000000</td>\n",
       "      <td>0.000000</td>\n",
       "      <td>0.000000</td>\n",
       "      <td>28.982306</td>\n",
       "      <td>0.000000</td>\n",
       "      <td>64.000000</td>\n",
       "      <td>4.357873</td>\n",
       "    </tr>\n",
       "    <tr>\n",
       "      <th>75%</th>\n",
       "      <td>3113.500000</td>\n",
       "      <td>66.000000</td>\n",
       "      <td>92.300000</td>\n",
       "      <td>67.000000</td>\n",
       "      <td>99.800000</td>\n",
       "      <td>28.600000</td>\n",
       "      <td>644.000000</td>\n",
       "      <td>1.000000</td>\n",
       "      <td>0.000000</td>\n",
       "      <td>0.000000</td>\n",
       "      <td>0.000000</td>\n",
       "      <td>1.000000</td>\n",
       "      <td>31.744224</td>\n",
       "      <td>0.000000</td>\n",
       "      <td>110.000000</td>\n",
       "      <td>5.869446</td>\n",
       "    </tr>\n",
       "    <tr>\n",
       "      <th>max</th>\n",
       "      <td>4151.000000</td>\n",
       "      <td>94.000000</td>\n",
       "      <td>146.500000</td>\n",
       "      <td>77.000000</td>\n",
       "      <td>136.400000</td>\n",
       "      <td>77.900000</td>\n",
       "      <td>720.000000</td>\n",
       "      <td>1.000000</td>\n",
       "      <td>1.000000</td>\n",
       "      <td>1.000000</td>\n",
       "      <td>1.000000</td>\n",
       "      <td>1.000000</td>\n",
       "      <td>66.178116</td>\n",
       "      <td>1.000000</td>\n",
       "      <td>120.000000</td>\n",
       "      <td>12.236907</td>\n",
       "    </tr>\n",
       "  </tbody>\n",
       "</table>\n",
       "</div>"
      ],
      "text/plain": [
       "                id          age    weight_kg  height_inch         eGFR  \\\n",
       "count  4151.000000  4151.000000  4151.000000  4151.000000  4151.000000   \n",
       "mean   2076.000000    57.082390    79.198699    64.804384    85.953361   \n",
       "std    1198.434813    13.563593    19.655275     3.617600    19.978272   \n",
       "min       1.000000    22.000000    35.400000    53.000000    18.600000   \n",
       "25%    1038.500000    48.000000    65.100000    62.000000    72.400000   \n",
       "50%    2076.000000    57.000000    78.700000    65.000000    86.200000   \n",
       "75%    3113.500000    66.000000    92.300000    67.000000    99.800000   \n",
       "max    4151.000000    94.000000   146.500000    77.000000   136.400000   \n",
       "\n",
       "           astmean  cumulative_dose       female     diabetes    tamoxifen  \\\n",
       "count  4151.000000      4151.000000  4151.000000  4151.000000  4151.000000   \n",
       "mean     23.880029       490.597360     0.825584     0.065285     0.003614   \n",
       "std       9.482674       170.307368     0.379512     0.247059     0.060012   \n",
       "min       6.300000        26.000000     0.000000     0.000000     0.000000   \n",
       "25%      17.200000       362.000000     1.000000     0.000000     0.000000   \n",
       "50%      22.200000       508.000000     1.000000     0.000000     0.000000   \n",
       "75%      28.600000       644.000000     1.000000     0.000000     0.000000   \n",
       "max      77.900000       720.000000     1.000000     1.000000     1.000000   \n",
       "\n",
       "       retinaltoxin     highdose          bmi      outcome     fup_time  \\\n",
       "count   4151.000000  4151.000000  4151.000000  4151.000000  4151.000000   \n",
       "mean       0.011082     0.387377    28.773014     0.028668    67.933510   \n",
       "std        0.104697     0.487210     4.689372     0.166891    39.117154   \n",
       "min        0.000000     0.000000    16.633505     0.000000     1.000000   \n",
       "25%        0.000000     0.000000    25.806503     0.000000    33.000000   \n",
       "50%        0.000000     0.000000    28.982306     0.000000    64.000000   \n",
       "75%        0.000000     1.000000    31.744224     0.000000   110.000000   \n",
       "max        1.000000     1.000000    66.178116     1.000000   120.000000   \n",
       "\n",
       "            dosewt  \n",
       "count  4151.000000  \n",
       "mean      4.503707  \n",
       "std       1.974297  \n",
       "min       0.068902  \n",
       "25%       3.021613  \n",
       "50%       4.357873  \n",
       "75%       5.869446  \n",
       "max      12.236907  "
      ]
     },
     "execution_count": 6,
     "metadata": {},
     "output_type": "execute_result"
    }
   ],
   "source": [
    "df.describe()"
   ]
  },
  {
   "cell_type": "markdown",
   "id": "9f9efddd-50fc-4e88-8ecd-f67418b55379",
   "metadata": {},
   "source": [
    "## Preparing our dataset for modelling"
   ]
  },
  {
   "cell_type": "code",
   "execution_count": 7,
   "id": "685bca68-2f3d-440a-a8a3-1457c301cec2",
   "metadata": {},
   "outputs": [],
   "source": [
    "X, y = df.drop('outcome', axis=1), df.outcome"
   ]
  },
  {
   "cell_type": "code",
   "execution_count": 8,
   "id": "c945ff99-2e0d-4be1-ae1e-a88d6442d792",
   "metadata": {},
   "outputs": [],
   "source": [
    "X_train, X_test, y_train, y_test = train_test_split(X, y, test_size=.20)"
   ]
  },
  {
   "cell_type": "code",
   "execution_count": 9,
   "id": "8ba240e6-d635-4f50-9d0e-673d68afbb90",
   "metadata": {},
   "outputs": [],
   "source": [
    "ohe = OneHotEncoder()\n",
    "cat_cols = X_train.select_dtypes(include='object').columns\n",
    "num_columns = X_train.drop(cat_cols, axis=1).columns.tolist()\n",
    "\n",
    "X_train = pd.concat([pd.DataFrame(ohe.fit_transform(X_train[cat_cols]).toarray()), \n",
    "                     X_train.drop(cat_cols, axis=1).reset_index(drop=True)], axis=1)\n",
    "\n",
    "X_test = pd.concat([pd.DataFrame(ohe.transform(X_test[cat_cols]).toarray()), \n",
    "                     X_test.drop(cat_cols, axis=1).reset_index(drop=True)], axis=1)\n",
    "\n",
    "cat_cols = ohe.get_feature_names_out().tolist()\n",
    "cols = num_columns + cat_cols\n",
    "X_train.columns = cols\n",
    "X_test.columns = cols\n",
    "\n",
    "y_train, y_test = y_train.reset_index(drop=True), y_test.reset_index(drop=True)\n",
    "X_train = X_train.drop('id', axis=1); X_test = X_test.drop('id', axis=1); "
   ]
  },
  {
   "cell_type": "code",
   "execution_count": 10,
   "id": "3f535237-2304-46d5-94b1-3c1c20de125d",
   "metadata": {},
   "outputs": [],
   "source": [
    "std_scaler = StandardScaler()\n",
    "X_train = pd.DataFrame(std_scaler.fit_transform(X_train), columns=X_train.columns)\n",
    "X_test = pd.DataFrame(std_scaler.transform(X_test), columns=X_test.columns)"
   ]
  },
  {
   "cell_type": "code",
   "execution_count": 11,
   "id": "8d31a883-ef9a-4d5c-b45a-65e506eaf64f",
   "metadata": {},
   "outputs": [],
   "source": [
    "# Random Forest Classifier\n",
    "RF = RandomForestClassifier(n_jobs=-1)\n",
    "# Cross Validation strategy\n",
    "cv = RepeatedStratifiedKFold(n_splits=10, n_repeats=2)"
   ]
  },
  {
   "cell_type": "markdown",
   "id": "3897651c-e5ae-46c6-a130-c1e28aa630f8",
   "metadata": {},
   "source": [
    "## Feature Selection"
   ]
  },
  {
   "cell_type": "code",
   "execution_count": 12,
   "id": "4f4e849d-1619-416a-ae27-966e3f45c666",
   "metadata": {},
   "outputs": [],
   "source": [
    "# Feature selection\n",
    "## Forward\n",
    "fs_Forward = SequentialFeatureSelector(estimator=RF, cv=cv, scoring='f1', direction='forward')\n",
    "fs_Forward.fit(X_train, y_train)\n",
    "## Backward\n",
    "fs_Backward = SequentialFeatureSelector(estimator=RF, cv=cv, scoring='f1', direction='backward')\n",
    "fs_Backward.fit(X_train, y_train)\n",
    "## Wrapper\n",
    "fs_Wrapper = RFECV(estimator=RF, cv=cv, scoring='f1', min_features_to_select=1)\n",
    "fs_Wrapper.fit(X_train, y_train)\n",
    "# ANOVA\n",
    "fs_anova = SelectKBest(score_func=f_classif, k=X_train.shape[1]//2)\n",
    "fs_anova.fit(X_train, y_train);"
   ]
  },
  {
   "cell_type": "markdown",
   "id": "51da8a76-0b35-4f75-9ca4-1713281aa9c3",
   "metadata": {},
   "source": [
    "### Best Feature Selection Method"
   ]
  },
  {
   "cell_type": "code",
   "execution_count": 13,
   "id": "16eb3226-0b96-4659-80f6-3f419651492c",
   "metadata": {},
   "outputs": [],
   "source": [
    "# Select best feature selection method\n",
    "fs_methods = [None, fs_Forward, fs_Backward, fs_Wrapper, fs_anova]\n",
    "fs_score = 0\n",
    "fs_columns = X_train.columns\n",
    "best_fs_method = None\n",
    "for fs_method in fs_methods:\n",
    "    if fs_method is None:\n",
    "        cvs = cross_val_score(estimator=RF, X=X_train, y=y_train, scoring='f1', cv=cv)\n",
    "        cvs_score = np.mean(cvs)\n",
    "    else:\n",
    "        cvs = cross_val_score(estimator=RF, X=X_train[fs_method.get_feature_names_out()], \n",
    "                              y=y_train, scoring='f1', cv=cv)\n",
    "        cvs_score = np.mean(cvs)\n",
    "        \n",
    "    if cvs_score > fs_score:\n",
    "        fs_score = cvs_score\n",
    "        best_fs_method = fs_method\n",
    "        fs_columns = fs_method.get_feature_names_out()"
   ]
  },
  {
   "cell_type": "markdown",
   "id": "8810ccf4-d213-46c7-96d2-0b9674b2d3cb",
   "metadata": {},
   "source": [
    "## Imbalaced Data Treatment"
   ]
  },
  {
   "cell_type": "code",
   "execution_count": 14,
   "id": "f4becd4f-e3a0-4353-b1fc-d0dd861e615f",
   "metadata": {},
   "outputs": [],
   "source": [
    "class imbalanced_technique:\n",
    "    def __init__(self, technique, estimator, metric, cv, X, y):\n",
    "        self.name = 'None' if metric is None else str(technique.__class__())\n",
    "        self.technique = technique; self.estimator = estimator\n",
    "        self.metric = metric; self.cv = cv\n",
    "        if self.technique is None:\n",
    "            self.model_pipeline = self.estimator\n",
    "        elif str(self.technique.__class__()) == 'BaggingClassifier()':\n",
    "            self.model_pipeline = technique\n",
    "        else:\n",
    "            self.model_pipeline = make_pipeline(self.technique, self.estimator)\n",
    "        self.cvs = cross_val_score(self.model_pipeline, X=X, y=y, \n",
    "                                   scoring=self.metric, cv=self.cv)\n",
    "        self.avg_score = np.mean(self.cvs)"
   ]
  },
  {
   "cell_type": "code",
   "execution_count": 15,
   "id": "4f450e4b-f2e9-4133-913d-d7991d7b5818",
   "metadata": {},
   "outputs": [],
   "source": [
    "cv = RepeatedStratifiedKFold(n_splits=10, n_repeats=5)\n",
    "undersampling = imblearn.under_sampling.RandomUnderSampler()\n",
    "oversampling = imblearn.over_sampling.RandomOverSampler()\n",
    "smote = imblearn.over_sampling.SMOTE()\n",
    "bagging = BaggingClassifier(base_estimator=RF)\n",
    "imb_techniques = []\n",
    "imb_techniques.append(imbalanced_technique(None, RF, 'f1', cv, X_train[fs_columns], y_train))\n",
    "imb_techniques.append(imbalanced_technique(undersampling, RF, 'f1', cv, X_train[fs_columns], y_train))\n",
    "imb_techniques.append(imbalanced_technique(oversampling, RF, 'f1', cv, X_train[fs_columns], y_train))\n",
    "imb_techniques.append(imbalanced_technique(smote, RF, 'f1', cv, X_train[fs_columns], y_train))\n",
    "imb_techniques.append(imbalanced_technique(bagging, RF, 'f1', cv, X_train[fs_columns], y_train))"
   ]
  },
  {
   "cell_type": "markdown",
   "id": "b9d5ceea-6ced-4ad6-a488-4f68cd1a0f69",
   "metadata": {},
   "source": [
    "### Best Technique"
   ]
  },
  {
   "cell_type": "code",
   "execution_count": 16,
   "id": "d39b6aa6-8f63-48d2-a550-07afff6b4c3a",
   "metadata": {},
   "outputs": [],
   "source": [
    "best_imb_technique = None\n",
    "best_imb_score = 0\n",
    "for imb_technique in imb_techniques:\n",
    "    if imb_technique.avg_score > best_imb_score:\n",
    "        best_imb_technique = imb_technique\n",
    "        best_imb_score = imb_technique.avg_score"
   ]
  },
  {
   "cell_type": "markdown",
   "id": "960b7d73-e545-40fa-8f21-7275433f2f72",
   "metadata": {},
   "source": [
    "## Hyperparameter Tuning"
   ]
  },
  {
   "cell_type": "code",
   "execution_count": 17,
   "id": "ac25ad4a-83c0-4d87-94dc-697e65ef4f78",
   "metadata": {},
   "outputs": [],
   "source": [
    "# Grid search Random Forest\n",
    "param_grid_RF = {'randomforestclassifier__n_estimators': [100, 200, 400, 600, 800],  # Number of estimators\n",
    "                 'randomforestclassifier__criterion': ['gini', 'entropy'], # Calculate Information Gain\n",
    "                 'randomforestclassifier__bootstrap': [True, False] # sampling for each training tree               \n",
    "                }\n",
    "tuned_RF = GridSearchCV(best_imb_technique.model_pipeline, \n",
    "                       param_grid=param_grid_RF, scoring = 'f1', cv = cv)\n",
    "tuned_RF.fit(X_train[fs_columns], y_train);"
   ]
  },
  {
   "cell_type": "markdown",
   "id": "051ca53c-bb55-4f77-9102-8f55926d65cd",
   "metadata": {},
   "source": [
    "## Results"
   ]
  },
  {
   "cell_type": "code",
   "execution_count": 18,
   "id": "6b469e17-9b3d-473f-8e9a-08128d94852f",
   "metadata": {},
   "outputs": [],
   "source": [
    "preds = tuned_RF.predict(X_test[fs_columns])\n",
    "preds_proba = tuned_RF.predict_proba(X_test[fs_columns])"
   ]
  },
  {
   "cell_type": "code",
   "execution_count": 19,
   "id": "8285cb80-1607-430a-9113-dc16ea0d4ef7",
   "metadata": {},
   "outputs": [
    {
     "data": {
      "text/html": [
       "<div>\n",
       "<style scoped>\n",
       "    .dataframe tbody tr th:only-of-type {\n",
       "        vertical-align: middle;\n",
       "    }\n",
       "\n",
       "    .dataframe tbody tr th {\n",
       "        vertical-align: top;\n",
       "    }\n",
       "\n",
       "    .dataframe thead th {\n",
       "        text-align: right;\n",
       "    }\n",
       "</style>\n",
       "<table border=\"1\" class=\"dataframe\">\n",
       "  <thead>\n",
       "    <tr style=\"text-align: right;\">\n",
       "      <th></th>\n",
       "      <th>F1</th>\n",
       "      <th>Precision</th>\n",
       "      <th>Recall</th>\n",
       "      <th>Accuracy</th>\n",
       "    </tr>\n",
       "  </thead>\n",
       "  <tbody>\n",
       "    <tr>\n",
       "      <th>0</th>\n",
       "      <td>0.0581</td>\n",
       "      <td>0.0304</td>\n",
       "      <td>0.6522</td>\n",
       "      <td>0.4152</td>\n",
       "    </tr>\n",
       "  </tbody>\n",
       "</table>\n",
       "</div>"
      ],
      "text/plain": [
       "       F1  Precision  Recall  Accuracy\n",
       "0  0.0581     0.0304  0.6522    0.4152"
      ]
     },
     "execution_count": 19,
     "metadata": {},
     "output_type": "execute_result"
    }
   ],
   "source": [
    "from sklearn.metrics import accuracy_score, f1_score, classification_report, precision_score, recall_score\n",
    "metrics = {'F1': round(f1_score(y_test, preds), 4),\n",
    "          'Precision': round(precision_score(y_test, preds), 4),\n",
    "          'Recall': round(recall_score(y_test, preds), 4),\n",
    "          'Accuracy':round(accuracy_score(y_test, preds), 4)}\n",
    "pd.DataFrame([metrics])"
   ]
  },
  {
   "cell_type": "code",
   "execution_count": 20,
   "id": "4c30e33f-44e0-460e-8324-3f4f6d0dc8e4",
   "metadata": {},
   "outputs": [
    {
     "name": "stdout",
     "output_type": "stream",
     "text": [
      "              precision    recall  f1-score   support\n",
      "\n",
      "           0       0.98      0.41      0.58       808\n",
      "           1       0.03      0.65      0.06        23\n",
      "\n",
      "    accuracy                           0.42       831\n",
      "   macro avg       0.50      0.53      0.32       831\n",
      "weighted avg       0.95      0.42      0.56       831\n",
      "\n"
     ]
    }
   ],
   "source": [
    "print(classification_report(y_test, preds))"
   ]
  },
  {
   "cell_type": "code",
   "execution_count": 21,
   "id": "55ef44fb-fcbc-4445-b819-df7f6735b402",
   "metadata": {},
   "outputs": [],
   "source": [
    "# Top Predictors\n",
    "top_predictors = dict(zip(tuned_RF.feature_names_in_, \n",
    "                          tuned_RF.best_estimator_['randomforestclassifier'].feature_importances_))\n",
    "top_predictors = {key: val for key, val in sorted(top_predictors.items(), key= lambda x: x[1], reverse=True)}"
   ]
  },
  {
   "cell_type": "code",
   "execution_count": 22,
   "id": "dcf810fe-da9b-4865-9525-67c32bd4f871",
   "metadata": {},
   "outputs": [],
   "source": [
    "top_predictor_df = pd.DataFrame([top_predictors]).transpose()\n",
    "top_predictor_df.columns = ['Importance']"
   ]
  },
  {
   "cell_type": "code",
   "execution_count": 23,
   "id": "85ef703b-73e3-48b9-a2a1-87a036afe183",
   "metadata": {},
   "outputs": [
    {
     "data": {
      "text/html": [
       "<div>\n",
       "<style scoped>\n",
       "    .dataframe tbody tr th:only-of-type {\n",
       "        vertical-align: middle;\n",
       "    }\n",
       "\n",
       "    .dataframe tbody tr th {\n",
       "        vertical-align: top;\n",
       "    }\n",
       "\n",
       "    .dataframe thead th {\n",
       "        text-align: right;\n",
       "    }\n",
       "</style>\n",
       "<table border=\"1\" class=\"dataframe\">\n",
       "  <thead>\n",
       "    <tr style=\"text-align: right;\">\n",
       "      <th></th>\n",
       "      <th>Importance</th>\n",
       "    </tr>\n",
       "  </thead>\n",
       "  <tbody>\n",
       "    <tr>\n",
       "      <th>diabetes</th>\n",
       "      <td>1.0</td>\n",
       "    </tr>\n",
       "  </tbody>\n",
       "</table>\n",
       "</div>"
      ],
      "text/plain": [
       "          Importance\n",
       "diabetes         1.0"
      ]
     },
     "execution_count": 23,
     "metadata": {},
     "output_type": "execute_result"
    }
   ],
   "source": [
    "top_predictor_df"
   ]
  },
  {
   "cell_type": "code",
   "execution_count": 24,
   "id": "e5130bf1-7ad5-453b-b100-32b0eb50e2d2",
   "metadata": {},
   "outputs": [
    {
     "data": {
      "image/png": "[encoded data removed]",
      "text/plain": [
       "<Figure size 432x288 with 1 Axes>"
      ]
     },
     "metadata": {
      "needs_background": "light"
     },
     "output_type": "display_data"
    }
   ],
   "source": [
    "top_predictor_df.plot.bar();"
   ]
  }
 ],
 "metadata": {
  "kernelspec": {
   "display_name": "Python 3 (ipykernel)",
   "language": "python",
   "name": "python3"
  },
  "language_info": {
   "codemirror_mode": {
    "name": "ipython",
    "version": 3
   },
   "file_extension": ".py",
   "mimetype": "text/x-python",
   "name": "python",
   "nbconvert_exporter": "python",
   "pygments_lexer": "ipython3",
   "version": "3.9.12"
  }
 },
 "nbformat": 4,
 "nbformat_minor": 5
}
